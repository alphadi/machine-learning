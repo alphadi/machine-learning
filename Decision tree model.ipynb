{
 "cells": [
  {
   "cell_type": "code",
   "execution_count": 1,
   "metadata": {},
   "outputs": [],
   "source": [
    "import pandas as pd\n",
    "import numpy as np\n",
    "import matplotlib.pyplot as plt\n",
    "import seaborn as sns\n",
    "%matplotlib inline"
   ]
  },
  {
   "cell_type": "code",
   "execution_count": null,
   "metadata": {},
   "outputs": [],
   "source": [
    "df = pd.read_csv('kyphosis.csv')\n",
    "\n",
    "    sns.pairplot(df,hue='Kyphosis',palette='Set1')  #pairplot where we differentiate whether kyphosis is present or not\n",
    "\n",
    "from sklearn.model_selection import train_test_split\n",
    "    X = df.drop('Kyphosis',axis=1)\n",
    "    y = df['Kyphosis']\n",
    "    \n",
    "X_train, X_test, y_train, y_test = train_test_split(X, y, test_size=0.30)\n",
    "\n",
    "X_train = np.array(X_train).reshape(1,-1)\n",
    "    \n",
    "from sklearn.tree import DecisionTreeClassifier\n",
    "    dtree = DecisionTreeClassifier()\n",
    "    dtree.fit(X_train,y_train)\n",
    "    \n",
    "predictions = dtree.predict(X_test) \n",
    "    \n",
    "from sklearn.metrics import classification_report,confusion_matrix\n",
    "    print(classification_report(y_test,predictions))\n",
    "    print(confusion_matrix(y_test,predictions))\n",
    "    \n",
    "from sklearn.ensemble import RandomForestClassifier\n",
    "    rfc = RandomForestClassifier(n_estimators=100)\n",
    "    rfc.fit(X_train, y_train)\n",
    "    \n",
    "    rfc_pred = rfc.predict(X_test)\n",
    "    print(confusion_matrix(y_test,rfc_pred))\n",
    "    print(classification_report(y_test,rfc_pred))"
   ]
  }
 ],
 "metadata": {
  "kernelspec": {
   "display_name": "Python 3",
   "language": "python",
   "name": "python3"
  },
  "language_info": {
   "codemirror_mode": {
    "name": "ipython",
    "version": 3
   },
   "file_extension": ".py",
   "mimetype": "text/x-python",
   "name": "python",
   "nbconvert_exporter": "python",
   "pygments_lexer": "ipython3",
   "version": "3.6.5"
  }
 },
 "nbformat": 4,
 "nbformat_minor": 2
}
