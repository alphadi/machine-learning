{
 "cells": [
  {
   "cell_type": "code",
   "execution_count": null,
   "metadata": {},
   "outputs": [],
   "source": [
    "import pandas as pd\n",
    "import numpy as np\n",
    "\n",
    "import matplotlib.pyplot as plt \n",
    "%matplotlib inline\n",
    "\n",
    "df = pd.read_csv('dataset.csv')  ##loading the csv dataset to the dataframe\n",
    "df.head(n=5)\n",
    "\n",
    "df_amount = df[(df['Opportunity Amount USD']>0)]  ## taking only the +ve values\n",
    "\n",
    "df_amount.head()\n",
    "\n",
    "## basic scatter plot\n",
    "\n",
    "plt.scatter(x=df_amount['Sales Stage Change Count'],y=df_amount['Elapsed Days In Sales Stage'],data=df_amount)\n",
    "plt.xlabel('Sales Stage Change Count')\n",
    "plt.ylabel('Elapsed Days In Sales Stage')\n",
    "plt.title('Elpased vs Changed')\n",
    "\n",
    "import seaborn as sns\n",
    "\n",
    "##gives us the count of  parameters\n",
    "\n",
    "sns.countplot(x=df_amount['Deal Size Category'],data=df_amount)\n",
    "sns.countplot(x=df_amount['Opportunity Result'], data = df_amount)\n",
    "sns.countplot(x=df_amount['Route To Market'],data=df_amount)\n",
    "\n",
    "## basic barplot. can be customised using hex and palette arguments\n",
    "\n",
    "sns.barplot(x=df_amount['Client Size By Employee Count'],y=df_amount['Client Size By Revenue'],data=df_amount)\n",
    "\n",
    "sns.boxplot(x=df_amount['Client Size By Employee Count'],y=df_amount['Client Size By Revenue'],data=df_amount)\n",
    "\n",
    "sns.boxplot(x=df_amount['Opportunity Result'],y=df_amount['Opportunity Amount USD'],data=df_amount)\n",
    "\n",
    "\n",
    "##jointplot() allows you to basically match up two distplots for bivariate data, kind argument is customisable\n",
    "\n",
    "sns.jointplot(x=df_amount['Total Days Identified Through Closing'],y=df_amount['Total Days Identified Through Qualified'],data=df_amount,kind='reg')\n",
    "\n",
    "sns.jointplot(df_amount['Elapsed Days In Sales Stage'],y=df_amount['Total Days Identified Through Closing'],data=df_amount, kind='hex')\n",
    "\n",
    "sns.kdeplot(data=df_amount['Total Days Identified Through Closing'])\n",
    "\n",
    "##little more advanced ....violin plot to visualize the deviation \n",
    "sns.violinplot(x=df_amount['Revenue From Client Past Two Years'],y=df_amount['Client Size By Revenue'],hue=df_amount['Competitor Type'],palette=\"coolwarm\")\n",
    "\n",
    "sns.violinplot(x=df_amount['Deal Size Category'],y=df_amount['Client Size By Revenue'],hue=df_amount['Competitor Type'],palette=\"coolwarm\")\n",
    "\n",
    "\n",
    "\n"
   ]
  },
  {
   "cell_type": "code",
   "execution_count": null,
   "metadata": {},
   "outputs": [],
   "source": []
  }
 ],
 "metadata": {
  "kernelspec": {
   "display_name": "Python 3",
   "language": "python",
   "name": "python3"
  },
  "language_info": {
   "codemirror_mode": {
    "name": "ipython",
    "version": 3
   },
   "file_extension": ".py",
   "mimetype": "text/x-python",
   "name": "python",
   "nbconvert_exporter": "python",
   "pygments_lexer": "ipython3",
   "version": "3.6.5"
  }
 },
 "nbformat": 4,
 "nbformat_minor": 2
}
